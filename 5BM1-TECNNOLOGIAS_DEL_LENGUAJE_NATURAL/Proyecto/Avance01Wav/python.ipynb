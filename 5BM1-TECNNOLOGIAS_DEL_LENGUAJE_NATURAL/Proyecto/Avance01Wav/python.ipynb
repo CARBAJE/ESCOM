{
 "cells": [
  {
   "cell_type": "markdown",
   "metadata": {},
   "source": [
    "### ABSTRACCION DE INFORMACION DE UN ARCHIVO WAV Y VISUALIZACION DE SU ESPECTRO FRECUENCIAL Y ESPECTRO TEMPORAL"
   ]
  },
  {
   "cell_type": "code",
   "execution_count": 1,
   "metadata": {},
   "outputs": [],
   "source": [
    "import struct"
   ]
  },
  {
   "cell_type": "code",
   "execution_count": 2,
   "metadata": {},
   "outputs": [],
   "source": [
    "class WavHeader:\n",
    "    def __init__(self):\n",
    "        self.RIFF = b''\n",
    "        self.ChunkSize = 0\n",
    "        self.WAVE = b''\n",
    "        self.fmt = b''\n",
    "        self.Subchunk1Size = 0\n",
    "        self.AudioFormat = 0\n",
    "        self.NumOfChan = 0\n",
    "        self.SamplesPerSec = 0\n",
    "        self.bytesPerSec = 0\n",
    "        self.blockAlign = 0\n",
    "        self.bitsPerSample = 0\n",
    "        self.Subchunk2ID = b''\n",
    "        self.Subchunk2Size = 0"
   ]
  },
  {
   "cell_type": "code",
   "execution_count": null,
   "metadata": {},
   "outputs": [],
   "source": [
    "def get_file_size(file):\n",
    "    file.seek(0, 2)\n",
    "    file_size = file.tell()\n",
    "    file.seek(0)\n",
    "    return file_size"
   ]
  }
 ],
 "metadata": {
  "kernelspec": {
   "display_name": "base",
   "language": "python",
   "name": "python3"
  },
  "language_info": {
   "codemirror_mode": {
    "name": "ipython",
    "version": 3
   },
   "file_extension": ".py",
   "mimetype": "text/x-python",
   "name": "python",
   "nbconvert_exporter": "python",
   "pygments_lexer": "ipython3",
   "version": "3.11.7"
  }
 },
 "nbformat": 4,
 "nbformat_minor": 2
}
